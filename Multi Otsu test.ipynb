{
 "cells": [
  {
   "cell_type": "code",
   "execution_count": 1,
   "metadata": {},
   "outputs": [
    {
     "name": "stdout",
     "output_type": "stream",
     "text": [
      "(550, 550)\n",
      "(1000, 1000)\n",
      "Thresholds XCT: [ 36  97 151 194]\n",
      "Thresholds NCT: [ 37  88 108 124]\n"
     ]
    }
   ],
   "source": [
    "import os \n",
    "import sys\n",
    "import cv2\n",
    "import tools\n",
    "\n",
    "import matplotlib\n",
    "import matplotlib.pyplot as plt\n",
    "import numpy as np\n",
    "\n",
    "from skimage import data\n",
    "from skimage.filters import threshold_multiotsu\n",
    "\n",
    "# base directories for raw stacks\n",
    "# BASE_DIR = \"D:\\##DrFareehaResearch\\\\filtered_data\\\\handpicked\"\n",
    "BASE_DIR = \"/media/ammarsaqib/New Volume/##DrFareehaResearch/filtered_data/handpicked\"\n",
    "NCT_DIR = os.path.join(BASE_DIR, \"01_NCT_F1\")\n",
    "XCT_DIR = os.path.join(BASE_DIR, \"01_XCT_F1\")\n",
    "\n",
    "# stack dimenstions\n",
    "SLICES = 99\n",
    "WIDTH = 550\n",
    "HEIGHT = 550\n",
    "DIMENSIONS = (SLICES, WIDTH, HEIGHT)\n",
    "\n",
    "# color masks \n",
    "green = np.zeros((WIDTH,HEIGHT,3), dtype=np.uint8)\n",
    "blue = np.zeros((WIDTH,HEIGHT,3), dtype=np.uint8)\n",
    "green[:] = [0, 255, 0]\n",
    "blue[:] = [255, 0, 0]\n",
    "\n",
    "# pre-processing parameters\n",
    "KERNEL_SIZE = 5\n",
    "THRESHOLD_NCT_START = 120\n",
    "THRESHOLD_NCT_END = 230\n",
    "THRESHOLD_XCT_START = 150\n",
    "THRESHOLD_XCT_END = 230\n",
    "\n",
    "processed_stack_xct = []\n",
    "processed_stack_nct = []\n",
    "processed_final = []\n",
    "\n",
    "# getting list of slices from directory\n",
    "NCT_FILES = os.listdir(NCT_DIR)\n",
    "NCT_FILES = [NCT_FILES[i] for i in range(len(NCT_FILES)-1,-1,-1)] # reversing the list to match the order\n",
    "XCT_FILES = os.listdir(XCT_DIR)\n",
    "\n",
    "# print(NCT_FILES)\n",
    "# print(XCT_FILES)\n",
    "\n",
    "xct = XCT_FILES[0]\n",
    "nct = NCT_FILES[0]\n",
    "\n",
    "xct = tools.open_img(os.path.join(XCT_DIR, xct))\n",
    "nct = tools.open_img(os.path.join(NCT_DIR, nct))\n",
    "\n",
    "print(xct.shape)\n",
    "print(nct.shape)\n",
    "\n",
    "# filtering image with median blur\n",
    "nct = cv2.medianBlur(nct, ksize=KERNEL_SIZE)\n",
    "\n",
    "# resample neutron image\n",
    "nct = tools.adjust_size(nct, 530)\n",
    "nct = tools.affine_transform(nct, -7, -10)\n",
    "\n",
    "thresholds_xct = threshold_multiotsu(xct, classes=5)\n",
    "thresholds_nct = threshold_multiotsu(nct, classes=5)\n",
    "\n",
    "print(\"Thresholds XCT: {}\".format(thresholds_xct))\n",
    "print(\"Thresholds NCT: {}\".format(thresholds_nct))\n",
    "\n",
    "xct_regions = np.digitize(xct, bins=thresholds_xct)\n",
    "nct_regions = np.digitize(xct, bins=thresholds_nct)\n",
    "\n"
   ]
  },
  {
   "cell_type": "code",
   "execution_count": 2,
   "metadata": {},
   "outputs": [
    {
     "name": "stdout",
     "output_type": "stream",
     "text": [
      "(550, 550)\n",
      "(550, 550)\n"
     ]
    }
   ],
   "source": [
    "print(xct_regions.shape)\n",
    "print(xct.shape)"
   ]
  },
  {
   "cell_type": "code",
   "execution_count": 3,
   "metadata": {},
   "outputs": [
    {
     "data": {
      "text/plain": [
       "array([0, 1, 2, 3, 4])"
      ]
     },
     "execution_count": 3,
     "metadata": {},
     "output_type": "execute_result"
    }
   ],
   "source": [
    "np.unique(xct_regions)"
   ]
  },
  {
   "cell_type": "code",
   "execution_count": 4,
   "metadata": {},
   "outputs": [],
   "source": [
    "temp = [1,2,3,4,5]\n",
    "temp[0] = np.where(xct_regions == 0, 255, 0)\n",
    "\n",
    "temp[1] = np.where(xct_regions == 1, 255, 0)\n",
    "\n",
    "temp[2] = np.where(xct_regions == 2, 255, 0)\n",
    "\n",
    "temp[3] = np.where(xct_regions == 3, 255, 0)\n",
    "\n",
    "temp[4] = np.where(xct_regions == 4, 255, 0)\n",
    "\n",
    "\n",
    "for t in temp:\n",
    "    t = t.astype(np.uint8)\n",
    "    cv2.imshow(\"temp\",t)\n",
    "    cv2.waitKey()\n",
    "    cv2.destroyAllWindows()"
   ]
  },
  {
   "cell_type": "code",
   "execution_count": 4,
   "metadata": {},
   "outputs": [
    {
     "ename": "AttributeError",
     "evalue": "'int' object has no attribute 'astype'",
     "output_type": "error",
     "traceback": [
      "\u001b[0;31m---------------------------------------------------------------------------\u001b[0m",
      "\u001b[0;31mAttributeError\u001b[0m                            Traceback (most recent call last)",
      "\u001b[0;32m<ipython-input-4-97a5acb6b5a5>\u001b[0m in \u001b[0;36m<module>\u001b[0;34m\u001b[0m\n\u001b[1;32m     12\u001b[0m \u001b[0;34m\u001b[0m\u001b[0m\n\u001b[1;32m     13\u001b[0m \u001b[0;32mfor\u001b[0m \u001b[0mt\u001b[0m \u001b[0;32min\u001b[0m \u001b[0mtemp\u001b[0m\u001b[0;34m:\u001b[0m\u001b[0;34m\u001b[0m\u001b[0;34m\u001b[0m\u001b[0m\n\u001b[0;32m---> 14\u001b[0;31m     \u001b[0mt\u001b[0m \u001b[0;34m=\u001b[0m \u001b[0mt\u001b[0m\u001b[0;34m.\u001b[0m\u001b[0mastype\u001b[0m\u001b[0;34m(\u001b[0m\u001b[0mnp\u001b[0m\u001b[0;34m.\u001b[0m\u001b[0muint8\u001b[0m\u001b[0;34m)\u001b[0m\u001b[0;34m\u001b[0m\u001b[0;34m\u001b[0m\u001b[0m\n\u001b[0m\u001b[1;32m     15\u001b[0m     \u001b[0mcv2\u001b[0m\u001b[0;34m.\u001b[0m\u001b[0mimshow\u001b[0m\u001b[0;34m(\u001b[0m\u001b[0;34m\"temp\"\u001b[0m\u001b[0;34m,\u001b[0m\u001b[0mt\u001b[0m\u001b[0;34m)\u001b[0m\u001b[0;34m\u001b[0m\u001b[0;34m\u001b[0m\u001b[0m\n\u001b[1;32m     16\u001b[0m     \u001b[0mcv2\u001b[0m\u001b[0;34m.\u001b[0m\u001b[0mwaitKey\u001b[0m\u001b[0;34m(\u001b[0m\u001b[0;34m)\u001b[0m\u001b[0;34m\u001b[0m\u001b[0;34m\u001b[0m\u001b[0m\n",
      "\u001b[0;31mAttributeError\u001b[0m: 'int' object has no attribute 'astype'"
     ]
    }
   ],
   "source": [
    "temp = [1,2,3,4,5]\n",
    "temp[0] = np.where(nct_regions == 0, 255, 0)\n",
    "\n",
    "temp[1] = np.where(nct_regions == 1, 255, 0)\n",
    "\n",
    "temp[2] = np.where(nct_regions == 2, 255, 0)\n",
    "\n",
    "temp[3] = np.where(nct_regions == 3, 255, 0)\n",
    "\n",
    "# temp[4] = np.where(nct_regions == 4, 255, 0)\n",
    "\n",
    "\n",
    "for t in temp:\n",
    "    t = t.astype(np.uint8)\n",
    "    cv2.imshow(\"temp\",t)\n",
    "    cv2.waitKey()\n",
    "    cv2.destroyAllWindows()"
   ]
  }
 ],
 "metadata": {
  "kernelspec": {
   "display_name": "Python 3",
   "language": "python",
   "name": "python3"
  },
  "language_info": {
   "codemirror_mode": {
    "name": "ipython",
    "version": 3
   },
   "file_extension": ".py",
   "mimetype": "text/x-python",
   "name": "python",
   "nbconvert_exporter": "python",
   "pygments_lexer": "ipython3",
   "version": "3.8.6"
  }
 },
 "nbformat": 4,
 "nbformat_minor": 4
}
